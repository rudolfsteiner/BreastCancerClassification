{
 "cells": [
  {
   "cell_type": "code",
   "execution_count": 1,
   "metadata": {},
   "outputs": [],
   "source": [
    "# set the matplotlib backend so figures can be saved in the background\n",
    "import matplotlib\n",
    "matplotlib.use(\"Agg\")\n",
    "%matplotlib inline\n",
    "\n",
    "from tensorflow.keras.preprocessing.image import ImageDataGenerator\n",
    "\n",
    "from modelfile.cancer_model import CancerModel\n",
    "from modelfile.config import Config\n",
    "\n",
    "from sklearn.metrics import classification_report, confusion_matrix\n",
    "from imutils import paths\n",
    "import matplotlib.pyplot as plt\n",
    "import numpy as np\n",
    "import os\n",
    "import tensorflow as tf\n",
    "import pickle\n",
    "# Some more magic so that the notebook will reload external python modules;\n",
    "# see http://stackoverflow.com/questions/1907993/autoreload-of-modules-in-ipython\n",
    "%load_ext autoreload\n",
    "%autoreload 2\n",
    "\n",
    "%reload_ext autoreload"
   ]
  },
  {
   "cell_type": "code",
   "execution_count": 2,
   "metadata": {
    "collapsed": true
   },
   "outputs": [],
   "source": [
    "def load_pickle(filename):\n",
    "    \n",
    "    item_pkl_file = open(filename, 'rb')\n",
    "    item = pickle.load(item_pkl_file)\n",
    "    \n",
    "    return item"
   ]
  },
  {
   "cell_type": "code",
   "execution_count": 3,
   "metadata": {
    "collapsed": true
   },
   "outputs": [],
   "source": [
    "config = Config()"
   ]
  },
  {
   "cell_type": "markdown",
   "metadata": {},
   "source": [
    "## Training data preparation and Data Augmentation\n",
    "\n",
    "Here we use Keras.ImageDataGenerator to purposely perturbs training examples, changing their appearance slightly, before passing them into the network for training. It is a form of regularization\n",
    "\n",
    "1. rescale: cast our data from [0, 255] range to [0, 1] range\n",
    "2. random rotations\n",
    "3. random zoom\n",
    "4. width_shift_range:  fraction of total width\n",
    "5. height_shift_range: fraction of total height\n",
    "6. Shear Intensity (Shear angle in counter-clockwise direction in degrees)\n",
    "7. Randomly flip inputs horizontally.\n",
    "8. Randomly flip inputs vertically.\n",
    "9. fill_model: One of {\"constant\", \"nearest\", \"reflect\" or \"wrap\"}. Default is 'nearest'. Points outside the boundaries of the input are filled according to the given mode:"
   ]
  },
  {
   "cell_type": "code",
   "execution_count": 4,
   "metadata": {
    "collapsed": true
   },
   "outputs": [],
   "source": [
    "# initialize the training training data augmentation object\n",
    "trainAug = ImageDataGenerator(\n",
    "    rescale=1 / 255.0,\n",
    "    rotation_range=20,\n",
    "    zoom_range=0.05,\n",
    "    width_shift_range=0.1,\n",
    "    height_shift_range=0.1,\n",
    "    shear_range=0.05,\n",
    "    horizontal_flip=True,\n",
    "    vertical_flip=True,\n",
    "    fill_mode=\"nearest\")"
   ]
  },
  {
   "cell_type": "code",
   "execution_count": 5,
   "metadata": {
    "collapsed": true
   },
   "outputs": [],
   "source": [
    "# initialize the validation (and testing) data augmentation object\n",
    "valAug = ImageDataGenerator(rescale=1 / 255.0)"
   ]
  },
  {
   "cell_type": "code",
   "execution_count": 6,
   "metadata": {},
   "outputs": [],
   "source": [
    "trainDF = load_pickle(\"./datasets/trainDF.pickle\")\n",
    "valDF = load_pickle(\"./datasets/valDF.pickle\")\n",
    "testDF = load_pickle(\"./datasets/testDF.pickle\")\n"
   ]
  },
  {
   "cell_type": "code",
   "execution_count": 7,
   "metadata": {
    "collapsed": true
   },
   "outputs": [],
   "source": [
    "totalTrain = trainDF['label'].count()\n",
    "totalVal = valDF['label'].count()\n",
    "totalTest = testDF['label'].count()\n",
    "classT = [trainDF['label'][trainDF['label']=='0'].count(), trainDF['label'][trainDF['label']=='1'].count()]\n",
    "classWeight = max(classT) / classT"
   ]
  },
  {
   "cell_type": "code",
   "execution_count": 8,
   "metadata": {},
   "outputs": [
    {
     "name": "stdout",
     "output_type": "stream",
     "text": [
      "[168975, 64081]\n"
     ]
    }
   ],
   "source": [
    "print(classT)"
   ]
  },
  {
   "cell_type": "code",
   "execution_count": 9,
   "metadata": {},
   "outputs": [
    {
     "name": "stdout",
     "output_type": "stream",
     "text": [
      "Found 233056 images belonging to 2 classes.\n",
      "Found 19500 images belonging to 2 classes.\n",
      "Found 24968 images belonging to 2 classes.\n"
     ]
    }
   ],
   "source": [
    "\n",
    "# initialize the training generator\n",
    "trainGen = trainAug.flow_from_directory(\n",
    "    config.TRAIN_PATH,\n",
    "    class_mode=\"categorical\",\n",
    "    target_size=(48, 48),\n",
    "    color_mode=\"rgb\",\n",
    "    shuffle=True,\n",
    "    batch_size=config.batch_size)\n",
    "\n",
    "# initialize the validation generator\n",
    "valGen = valAug.flow_from_directory(\n",
    "    config.VAL_PATH,\n",
    "    class_mode=\"categorical\",\n",
    "    target_size=(48, 48),\n",
    "    color_mode=\"rgb\",\n",
    "    shuffle=False,\n",
    "    batch_size=config.batch_size)\n",
    "\n",
    "# initialize the testing generator\n",
    "testGen = valAug.flow_from_directory(\n",
    "    config.TEST_PATH,\n",
    "    class_mode=\"categorical\",\n",
    "    target_size=(48, 48),\n",
    "    color_mode=\"rgb\",\n",
    "    shuffle=False,\n",
    "    batch_size=config.batch_size)\n"
   ]
  },
  {
   "cell_type": "code",
   "execution_count": null,
   "metadata": {
    "collapsed": true
   },
   "outputs": [],
   "source": []
  },
  {
   "cell_type": "code",
   "execution_count": 10,
   "metadata": {
    "collapsed": true
   },
   "outputs": [],
   "source": [
    "# initialize our CancerNet model and compile it\n",
    "\n",
    "model= CancerModel.build(width=48, height=48, depth=3, classes=2) \n",
    "optimizer = tf.keras.optimizers.Adam(learning_rate=config.lr) \n",
    "model.compile(loss='categorical_crossentropy', optimizer=optimizer, metrics=['accuracy'])"
   ]
  },
  {
   "cell_type": "code",
   "execution_count": 11,
   "metadata": {},
   "outputs": [
    {
     "name": "stdout",
     "output_type": "stream",
     "text": [
      "Model: \"CancerModel\"\n",
      "_________________________________________________________________\n",
      "Layer (type)                 Output Shape              Param #   \n",
      "=================================================================\n",
      "input_layer (InputLayer)     [(None, 48, 48, 3)]       0         \n",
      "_________________________________________________________________\n",
      "ds_conv1 (SeparableConv2D)   (None, 48, 48, 32)        155       \n",
      "_________________________________________________________________\n",
      "batch_normalization_v2 (Batc (None, 48, 48, 32)        128       \n",
      "_________________________________________________________________\n",
      "Relu (TensorFlowOpLayer)     [(None, 48, 48, 32)]      0         \n",
      "_________________________________________________________________\n",
      "max_pooling2d (MaxPooling2D) (None, 24, 24, 32)        0         \n",
      "_________________________________________________________________\n",
      "dropout (Dropout)            (None, 24, 24, 32)        0         \n",
      "_________________________________________________________________\n",
      "ds_conv2 (SeparableConv2D)   (None, 24, 24, 64)        2400      \n",
      "_________________________________________________________________\n",
      "batch_normalization_v2_1 (Ba (None, 24, 24, 64)        256       \n",
      "_________________________________________________________________\n",
      "Relu_1 (TensorFlowOpLayer)   [(None, 24, 24, 64)]      0         \n",
      "_________________________________________________________________\n",
      "ds_conv3 (SeparableConv2D)   (None, 24, 24, 64)        4736      \n",
      "_________________________________________________________________\n",
      "batch_normalization_v2_2 (Ba (None, 24, 24, 64)        256       \n",
      "_________________________________________________________________\n",
      "Relu_2 (TensorFlowOpLayer)   [(None, 24, 24, 64)]      0         \n",
      "_________________________________________________________________\n",
      "max_pooling2d_1 (MaxPooling2 (None, 12, 12, 64)        0         \n",
      "_________________________________________________________________\n",
      "dropout_1 (Dropout)          (None, 12, 12, 64)        0         \n",
      "_________________________________________________________________\n",
      "ds_conv4 (SeparableConv2D)   (None, 12, 12, 64)        4736      \n",
      "_________________________________________________________________\n",
      "batch_normalization_v2_3 (Ba (None, 12, 12, 64)        256       \n",
      "_________________________________________________________________\n",
      "Relu_3 (TensorFlowOpLayer)   [(None, 12, 12, 64)]      0         \n",
      "_________________________________________________________________\n",
      "ds_conv5 (SeparableConv2D)   (None, 12, 12, 64)        4736      \n",
      "_________________________________________________________________\n",
      "batch_normalization_v2_4 (Ba (None, 12, 12, 64)        256       \n",
      "_________________________________________________________________\n",
      "Relu_4 (TensorFlowOpLayer)   [(None, 12, 12, 64)]      0         \n",
      "_________________________________________________________________\n",
      "ds_conv6 (SeparableConv2D)   (None, 12, 12, 64)        4736      \n",
      "_________________________________________________________________\n",
      "batch_normalization_v2_5 (Ba (None, 12, 12, 64)        256       \n",
      "_________________________________________________________________\n",
      "Relu_5 (TensorFlowOpLayer)   [(None, 12, 12, 64)]      0         \n",
      "_________________________________________________________________\n",
      "max_pooling2d_2 (MaxPooling2 (None, 6, 6, 64)          0         \n",
      "_________________________________________________________________\n",
      "dropout_2 (Dropout)          (None, 6, 6, 64)          0         \n",
      "_________________________________________________________________\n",
      "flatten (Flatten)            (None, 2304)              0         \n",
      "_________________________________________________________________\n",
      "dense (Dense)                (None, 256)               590080    \n",
      "_________________________________________________________________\n",
      "activation (Activation)      (None, 256)               0         \n",
      "_________________________________________________________________\n",
      "batch_normalization_v2_6 (Ba (None, 256)               1024      \n",
      "_________________________________________________________________\n",
      "dropout_3 (Dropout)          (None, 256)               0         \n",
      "_________________________________________________________________\n",
      "dense_1 (Dense)              (None, 2)                 514       \n",
      "_________________________________________________________________\n",
      "activation_1 (Activation)    (None, 2)                 0         \n",
      "=================================================================\n",
      "Total params: 614,525\n",
      "Trainable params: 613,309\n",
      "Non-trainable params: 1,216\n",
      "_________________________________________________________________\n"
     ]
    }
   ],
   "source": [
    "model.summary()"
   ]
  },
  {
   "cell_type": "markdown",
   "metadata": {},
   "source": [
    "## Training"
   ]
  },
  {
   "cell_type": "code",
   "execution_count": 12,
   "metadata": {},
   "outputs": [
    {
     "name": "stdout",
     "output_type": "stream",
     "text": [
      "Epoch 1/10\n",
      "1820/1820 [==============================] - 522s 287ms/step - loss: 0.3523 - accuracy: 0.8494 - val_loss: 1.9521 - val_accuracy: 0.6642\n",
      "Epoch 2/10\n",
      "1820/1820 [==============================] - 453s 249ms/step - loss: 0.3207 - accuracy: 0.8636 - val_loss: 1.9917 - val_accuracy: 0.6377\n",
      "Epoch 3/10\n",
      "1820/1820 [==============================] - 439s 241ms/step - loss: 0.3120 - accuracy: 0.8677 - val_loss: 1.8580 - val_accuracy: 0.6943\n",
      "Epoch 4/10\n",
      "1820/1820 [==============================] - 436s 239ms/step - loss: 0.3049 - accuracy: 0.8707 - val_loss: 0.8049 - val_accuracy: 0.7481\n",
      "Epoch 5/10\n",
      "1820/1820 [==============================] - 450s 247ms/step - loss: 0.3005 - accuracy: 0.8728 - val_loss: 1.0761 - val_accuracy: 0.7615\n",
      "Epoch 6/10\n",
      "1820/1820 [==============================] - 438s 241ms/step - loss: 0.2964 - accuracy: 0.8746 - val_loss: 0.3805 - val_accuracy: 0.8764\n",
      "Epoch 7/10\n",
      "1820/1820 [==============================] - 432s 237ms/step - loss: 0.2931 - accuracy: 0.8761 - val_loss: 0.4339 - val_accuracy: 0.8410\n",
      "Epoch 8/10\n",
      "1820/1820 [==============================] - 437s 240ms/step - loss: 0.2891 - accuracy: 0.8784 - val_loss: 0.9041 - val_accuracy: 0.6934\n",
      "Epoch 9/10\n",
      "1820/1820 [==============================] - 432s 237ms/step - loss: 0.2867 - accuracy: 0.8790 - val_loss: 0.2580 - val_accuracy: 0.8963\n",
      "Epoch 10/10\n",
      "1820/1820 [==============================] - 434s 239ms/step - loss: 0.2837 - accuracy: 0.8808 - val_loss: 0.2966 - val_accuracy: 0.8781\n"
     ]
    }
   ],
   "source": [
    "# fit the model\n",
    "history = model.fit_generator(\n",
    "    trainGen,\n",
    "    steps_per_epoch=totalTrain // config.batch_size,\n",
    "    validation_data=valGen,\n",
    "    validation_steps=totalVal // config.batch_size,\n",
    "    class_weight=classWeight,\n",
    "    epochs=config.epochs)"
   ]
  },
  {
   "cell_type": "markdown",
   "metadata": {},
   "source": [
    "## Prediction and Evaluation"
   ]
  },
  {
   "cell_type": "code",
   "execution_count": 13,
   "metadata": {},
   "outputs": [
    {
     "name": "stdout",
     "output_type": "stream",
     "text": [
      "             precision    recall  f1-score   support\n",
      "\n",
      "          0     0.8629    0.9378    0.8988     17362\n",
      "          1     0.8230    0.6600    0.7325      7606\n",
      "\n",
      "avg / total     0.8508    0.8532    0.8482     24968\n",
      "\n"
     ]
    }
   ],
   "source": [
    "# Make prediction\n",
    "testGen.reset()\n",
    "prediction = model.predict_generator(testGen, steps=(totalTest // config.batch_size) + 1)\n",
    "\n",
    "y_pred = np.argmax(prediction, axis=1)\n",
    "\n",
    "print(classification_report(testGen.classes, y_pred, target_names=testGen.class_indices.keys(), digits = 4))"
   ]
  },
  {
   "cell_type": "code",
   "execution_count": null,
   "metadata": {
    "collapsed": true
   },
   "outputs": [],
   "source": []
  },
  {
   "cell_type": "code",
   "execution_count": 14,
   "metadata": {},
   "outputs": [
    {
     "name": "stdout",
     "output_type": "stream",
     "text": [
      "[[16282  1080]\n",
      " [ 2586  5020]]\n",
      "acc: 0.8532\n",
      "sensitivity: 0.6600\n",
      "specificity: 0.9378\n"
     ]
    }
   ],
   "source": [
    "# compute the confusion matrix and and use it to derive the raw\n",
    "# accuracy, sensitivity, and specificity\n",
    "# class 0 is negtive, class 1 is positive\n",
    "c_m = confusion_matrix(testGen.classes, y_pred)\n",
    "acc = (c_m[0, 0] + c_m[1, 1]) / sum(sum(c_m))\n",
    "specificity = c_m[0, 0] / (c_m[0, 0] + c_m[0, 1])\n",
    "sensitivity = c_m[1, 1] / (c_m[1, 0] + c_m[1, 1])\n",
    "\n",
    "# print the confusion matrix, accuracy, sensitivity, and specificity\n",
    "print(c_m)\n",
    "print(\"acc: {:.4f}\".format(acc))\n",
    "print(\"sensitivity: {:.4f}\".format(sensitivity))\n",
    "print(\"specificity: {:.4f}\".format(specificity))\n"
   ]
  },
  {
   "cell_type": "code",
   "execution_count": null,
   "metadata": {
    "collapsed": true
   },
   "outputs": [],
   "source": []
  },
  {
   "cell_type": "code",
   "execution_count": 15,
   "metadata": {
    "scrolled": true
   },
   "outputs": [
    {
     "data": {
      "image/png": "[encoded data removed]",
      "text/plain": [
       "<matplotlib.figure.Figure at 0x7fdd6c352ef0>"
      ]
     },
     "metadata": {},
     "output_type": "display_data"
    }
   ],
   "source": [
    "# plot the training loss and accuracy\n",
    "N = config.epochs\n",
    "plt.style.use(\"ggplot\")\n",
    "plt.figure()\n",
    "plt.plot(np.arange(0, N), history.history[\"loss\"], label=\"train_loss\")\n",
    "plt.plot(np.arange(0, N), history.history[\"val_loss\"], label=\"val_loss\")\n",
    "plt.plot(np.arange(0, N), history.history[\"accuracy\"], label=\"train_acc\")\n",
    "plt.plot(np.arange(0, N), history.history[\"val_accuracy\"], label=\"val_acc\")\n",
    "plt.title(\"Training Loss and Accuracy on Dataset\")\n",
    "plt.xlabel(\"Epoch #\")\n",
    "plt.ylabel(\"Loss/Accuracy\")\n",
    "plt.legend(loc=\"lower left\")\n",
    "plt.savefig(config.plot_name)\n"
   ]
  },
  {
   "cell_type": "code",
   "execution_count": null,
   "metadata": {
    "collapsed": true
   },
   "outputs": [],
   "source": [
    "\n"
   ]
  }
 ],
 "metadata": {
  "kernelspec": {
   "display_name": "Python 3",
   "language": "python",
   "name": "python3"
  },
  "language_info": {
   "codemirror_mode": {
    "name": "ipython",
    "version": 3
   },
   "file_extension": ".py",
   "mimetype": "text/x-python",
   "name": "python",
   "nbconvert_exporter": "python",
   "pygments_lexer": "ipython3",
   "version": "3.6.0"
  }
 },
 "nbformat": 4,
 "nbformat_minor": 2
}
