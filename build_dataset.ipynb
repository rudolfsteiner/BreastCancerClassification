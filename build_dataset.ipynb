{
 "cells": [
  {
   "cell_type": "markdown",
   "metadata": {},
   "source": [
    "## Create the dataframe to record the image file paths and labels\n",
    "Used for Keras.ImageGenerator\n",
    "\n",
    "Before run the program, you need to manually seperate the image folders into \"train\", \"val\", \"test\" subfolder"
   ]
  },
  {
   "cell_type": "code",
   "execution_count": 1,
   "metadata": {},
   "outputs": [],
   "source": [
    "from modelfile.config import Config\n",
    "from imutils import paths\n",
    "import os\n",
    "import pandas as pd\n",
    "import pickle\n",
    "from tqdm import tqdm\n",
    "\n",
    "%load_ext autoreload\n",
    "%autoreload 2\n",
    "\n",
    "%reload_ext autoreload"
   ]
  },
  {
   "cell_type": "code",
   "execution_count": 2,
   "metadata": {
    "collapsed": true
   },
   "outputs": [],
   "source": [
    "def save_pickle(item, filename):\n",
    "    item_pickle = open(filename, \"wb\")\n",
    "    pickle.dump(item, item_pickle)\n",
    "    item_pickle.close()\n",
    "    \n",
    "def load_pickle(filename):\n",
    "    \n",
    "    item_pkl_file = open(filename, 'rb')\n",
    "    item = pickle.load(item_pkl_file)\n",
    "    \n",
    "    return item"
   ]
  },
  {
   "cell_type": "code",
   "execution_count": 3,
   "metadata": {},
   "outputs": [],
   "source": [
    "config = Config()"
   ]
  },
  {
   "cell_type": "code",
   "execution_count": null,
   "metadata": {
    "collapsed": true
   },
   "outputs": [],
   "source": []
  },
  {
   "cell_type": "code",
   "execution_count": 4,
   "metadata": {},
   "outputs": [],
   "source": [
    "trainPaths = list(paths.list_images(config.TRAIN_PATH))\n",
    "valPaths = list(paths.list_images(config.VAL_PATH))\n",
    "testPaths = list(paths.list_images(config.TEST_PATH))"
   ]
  },
  {
   "cell_type": "code",
   "execution_count": null,
   "metadata": {},
   "outputs": [],
   "source": []
  },
  {
   "cell_type": "code",
   "execution_count": 5,
   "metadata": {
    "collapsed": true
   },
   "outputs": [],
   "source": [
    "def get_df(imagePaths): \n",
    "    \"\"\"\n",
    "    Read the image files list and put them into a dataframe\n",
    "    imagePaths: a list of images files location\n",
    "    return:\n",
    "        dataframe with image files location and the labels\n",
    "    \"\"\"\n",
    "    path_list = []\n",
    "    \n",
    "    for inputPath in tqdm(imagePaths):\n",
    "        # extract the filename of the input image and extract the\n",
    "        # class label (\"0\" for \"negative\" and \"1\" for \"positive\")\n",
    "        filename = inputPath.split(os.path.sep)[-1]\n",
    "        label = filename[-5:-4]\n",
    "        path_list.append([filename, inputPath, label])\n",
    "        \n",
    "    df_temp = pd.DataFrame(path_list, columns = ['file', 'dir', 'label'], dtype=str)  \n",
    "    \n",
    "    return df_temp"
   ]
  },
  {
   "cell_type": "code",
   "execution_count": 6,
   "metadata": {},
   "outputs": [
    {
     "name": "stderr",
     "output_type": "stream",
     "text": [
      "100%|██████████| 233056/233056 [00:00<00:00, 469681.95it/s]\n",
      "100%|██████████| 19500/19500 [00:00<00:00, 585666.61it/s]\n",
      "100%|██████████| 24968/24968 [00:00<00:00, 563510.65it/s]\n"
     ]
    }
   ],
   "source": [
    "trainDF = get_df(trainPaths)\n",
    "valDF = get_df(valPaths)\n",
    "testDF = get_df(testPaths)"
   ]
  },
  {
   "cell_type": "code",
   "execution_count": null,
   "metadata": {},
   "outputs": [],
   "source": []
  },
  {
   "cell_type": "code",
   "execution_count": 7,
   "metadata": {
    "collapsed": true
   },
   "outputs": [],
   "source": [
    "save_pickle(trainDF, \"./datasets/trainDF.pickle\")\n",
    "save_pickle(valDF, \"./datasets/valDF.pickle\")\n",
    "save_pickle(testDF, \"./datasets/testDF.pickle\")"
   ]
  }
 ],
 "metadata": {
  "kernelspec": {
   "display_name": "Python 3",
   "language": "python",
   "name": "python3"
  },
  "language_info": {
   "codemirror_mode": {
    "name": "ipython",
    "version": 3
   },
   "file_extension": ".py",
   "mimetype": "text/x-python",
   "name": "python",
   "nbconvert_exporter": "python",
   "pygments_lexer": "ipython3",
   "version": "3.6.0"
  }
 },
 "nbformat": 4,
 "nbformat_minor": 2
}
